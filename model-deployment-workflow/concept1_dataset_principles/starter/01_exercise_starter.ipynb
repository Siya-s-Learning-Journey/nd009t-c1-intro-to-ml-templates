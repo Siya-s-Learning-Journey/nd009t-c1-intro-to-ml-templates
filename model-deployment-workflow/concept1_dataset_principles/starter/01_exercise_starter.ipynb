{
 "cells": [
  {
   "cell_type": "markdown",
   "id": "cd0efdab-cdff-4a3a-b93b-36b1cdb8a37c",
   "metadata": {},
   "source": [
    "# Exercise: Dataset Principles\n",
    "\n",
    "Since models are nothing without data, it's important to make sure the fundamentals are strong when creating and shaping your datasets. Here we'll create a regression dataset and split it into the three core dataset types: train, validation, and test.\n",
    "\n",
    "Your tasks for this exercise are:\n",
    "1. Create a dataframe with your features and target arrays from `make_regression`.\n",
    "2. Create a 60% Train / 20% Validation / 20% Test dataset group using the `train_test_split` method.\n",
    "3. Confirm the datasets are the correct size by outputing their shape.\n",
    "4. Save the three datasets to CSV"
   ]
  },
  {
   "cell_type": "code",
   "execution_count": 18,
   "id": "7d594dbd-6d8d-48cb-8782-f17ad6350f31",
   "metadata": {},
   "outputs": [],
   "source": [
    "import pandas as pd\n",
    "from sklearn.datasets import make_regression\n",
    "from sklearn.model_selection import train_test_split"
   ]
  },
  {
   "cell_type": "code",
   "execution_count": 19,
   "id": "f88843cb-0660-42cc-9b48-57347e41b8e3",
   "metadata": {},
   "outputs": [],
   "source": [
    "# Creating a regression dataset with 1000 samples, 5 feature columns, 2 which are actually useful, and 1 target column\n",
    "regression_dataset = make_regression(\n",
    "    n_samples=1000, n_features=5, n_informative=2, n_targets=1, random_state=0\n",
    ")"
   ]
  },
  {
   "cell_type": "code",
   "execution_count": 20,
   "id": "9ffee2de-2a93-4317-9c0a-4660e987849d",
   "metadata": {},
   "outputs": [],
   "source": [
    "df = pd.DataFrame(regression_dataset[0])\n",
    "df[\"target\"] = regression_dataset[1]"
   ]
  },
  {
   "cell_type": "code",
   "execution_count": 21,
   "id": "0d7e4014-e014-44a3-86ac-6b3406cf823a",
   "metadata": {},
   "outputs": [
    {
     "data": {
      "text/html": [
       "<div>\n",
       "<style scoped>\n",
       "    .dataframe tbody tr th:only-of-type {\n",
       "        vertical-align: middle;\n",
       "    }\n",
       "\n",
       "    .dataframe tbody tr th {\n",
       "        vertical-align: top;\n",
       "    }\n",
       "\n",
       "    .dataframe thead th {\n",
       "        text-align: right;\n",
       "    }\n",
       "</style>\n",
       "<table border=\"1\" class=\"dataframe\">\n",
       "  <thead>\n",
       "    <tr style=\"text-align: right;\">\n",
       "      <th></th>\n",
       "      <th>0</th>\n",
       "      <th>1</th>\n",
       "      <th>2</th>\n",
       "      <th>3</th>\n",
       "      <th>4</th>\n",
       "      <th>target</th>\n",
       "    </tr>\n",
       "  </thead>\n",
       "  <tbody>\n",
       "    <tr>\n",
       "      <th>0</th>\n",
       "      <td>0.236225</td>\n",
       "      <td>-0.323289</td>\n",
       "      <td>-0.018429</td>\n",
       "      <td>-1.548471</td>\n",
       "      <td>1.311427</td>\n",
       "      <td>70.618083</td>\n",
       "    </tr>\n",
       "    <tr>\n",
       "      <th>1</th>\n",
       "      <td>-0.801497</td>\n",
       "      <td>0.271170</td>\n",
       "      <td>-0.525641</td>\n",
       "      <td>-0.887780</td>\n",
       "      <td>0.936399</td>\n",
       "      <td>52.757870</td>\n",
       "    </tr>\n",
       "    <tr>\n",
       "      <th>2</th>\n",
       "      <td>0.687881</td>\n",
       "      <td>0.417044</td>\n",
       "      <td>-1.203735</td>\n",
       "      <td>0.498727</td>\n",
       "      <td>-0.737932</td>\n",
       "      <td>-43.728456</td>\n",
       "    </tr>\n",
       "    <tr>\n",
       "      <th>3</th>\n",
       "      <td>-0.679593</td>\n",
       "      <td>-1.063433</td>\n",
       "      <td>-1.797456</td>\n",
       "      <td>0.913202</td>\n",
       "      <td>2.211304</td>\n",
       "      <td>156.835125</td>\n",
       "    </tr>\n",
       "    <tr>\n",
       "      <th>4</th>\n",
       "      <td>0.096479</td>\n",
       "      <td>-0.507060</td>\n",
       "      <td>0.522083</td>\n",
       "      <td>0.155794</td>\n",
       "      <td>1.520004</td>\n",
       "      <td>102.748706</td>\n",
       "    </tr>\n",
       "  </tbody>\n",
       "</table>\n",
       "</div>"
      ],
      "text/plain": [
       "          0         1         2         3         4      target\n",
       "0  0.236225 -0.323289 -0.018429 -1.548471  1.311427   70.618083\n",
       "1 -0.801497  0.271170 -0.525641 -0.887780  0.936399   52.757870\n",
       "2  0.687881  0.417044 -1.203735  0.498727 -0.737932  -43.728456\n",
       "3 -0.679593 -1.063433 -1.797456  0.913202  2.211304  156.835125\n",
       "4  0.096479 -0.507060  0.522083  0.155794  1.520004  102.748706"
      ]
     },
     "execution_count": 21,
     "metadata": {},
     "output_type": "execute_result"
    }
   ],
   "source": [
    "df.head()"
   ]
  },
  {
   "cell_type": "code",
   "execution_count": 22,
   "id": "05db4d76-f9e8-441e-8c80-5dc338d7188c",
   "metadata": {},
   "outputs": [],
   "source": [
    "# Create a train: 0.8 | test: 0.2 ratio dataset\n",
    "df_train, df_test = train_test_split(df, test_size=.2, random_state=0)\n",
    "\n",
    "# Create a train: 0.6 | validation: 0.2 ratio dataset\n",
    "df_train, df_val = train_test_split(df_train, test_size=.25, random_state=0)\n",
    "\n",
    "# Final dataset sizes: train: 0.6, validation: 0.2, test: 0.2,"
   ]
  },
  {
   "cell_type": "code",
   "execution_count": 23,
   "id": "fad18b68-9c2c-4375-b0f1-d6cf724a3ec7",
   "metadata": {},
   "outputs": [
    {
     "name": "stdout",
     "output_type": "stream",
     "text": [
      "Train:             0         1         2         3         4      target\n",
      "787  0.275667 -1.641703 -0.730874  0.719668 -0.248419   -8.808848\n",
      "683 -1.342867  1.251292 -0.604033 -0.824147 -0.167253  -19.952561\n",
      "616  1.621728 -2.096557 -0.093123 -1.525778  0.478125   15.447073\n",
      "691 -1.170261  0.079926  1.202768  0.430374 -0.951992  -58.695696\n",
      "972  0.089620 -0.825779 -0.395222  1.010694 -0.743228  -38.595137\n",
      "..        ...       ...       ...       ...       ...         ...\n",
      "431 -0.235503  2.011243 -1.377019  1.121907  1.392837  104.643680\n",
      "243 -0.612626  0.133913  0.104907  0.774161 -0.774459  -43.206352\n",
      "444 -0.547518 -1.109478  0.978567  0.610392  0.286013   25.559747\n",
      "866  0.191159 -1.938357 -0.562252  1.423475 -0.785666  -36.994540\n",
      "943  0.270411 -1.592216 -0.167610  0.715783  0.158668   18.220595\n",
      "\n",
      "[600 rows x 6 columns]\n",
      "Validation:             0         1         2         3         4      target\n",
      "375  1.346221 -0.972403  1.496140 -0.822828 -1.490265 -107.918097\n",
      "289  0.447054  0.938839 -0.446465 -0.174614 -0.219244  -16.450526\n",
      "404  0.407462  0.672295  1.849264 -0.149635 -0.435154  -30.540750\n",
      "535  0.413385  0.829630 -0.178621 -1.213252  2.600672  159.943903\n",
      "509  0.736411  0.557487  0.420142 -0.863208 -1.282503  -94.534685\n",
      "..        ...       ...       ...       ...       ...         ...\n",
      "148 -1.012457 -0.932570 -1.426938 -1.684729 -0.499417  -51.262038\n",
      "44   0.907659 -0.334063  1.817826 -0.821265 -0.913656  -69.557098\n",
      "892  0.495851 -0.114962  0.795550  0.273729 -1.394840  -89.823268\n",
      "154  0.508653  1.736767  0.523085  1.798412  0.224679   34.210171\n",
      "758 -0.576242 -0.224827  1.077037 -0.110591 -0.432432  -29.941428\n",
      "\n",
      "[200 rows x 6 columns]\n",
      "Test:             0         1         2         3         4      target\n",
      "993 -0.628981 -1.431798  0.500017 -0.011136  1.344074   89.260937\n",
      "859  2.497200 -1.051880 -0.507518 -0.505358 -0.815792  -59.664393\n",
      "298  1.133080 -0.131054 -1.118312 -0.363859 -0.805627  -57.472323\n",
      "553  1.297082 -0.596771 -0.135872 -1.354585 -0.634844  -56.730559\n",
      "672 -1.150692 -1.022855  0.397565 -0.250757 -0.094062   -8.941845\n",
      "..        ...       ...       ...       ...       ...         ...\n",
      "679 -1.393769 -0.725282 -0.216874 -1.032079 -0.364435  -35.292988\n",
      "722  0.933661  0.924111  0.446333  0.529199  2.198112  151.843465\n",
      "215 -0.448767 -0.721431 -0.332102 -0.120407 -1.479316  -99.663848\n",
      "653  0.962342  0.457310  0.371811 -0.586320 -0.457641  -36.715007\n",
      "150 -0.197787  0.898241 -0.173608  0.677246 -0.031911    5.134303\n",
      "\n",
      "[200 rows x 6 columns]\n"
     ]
    }
   ],
   "source": [
    "# Output each shape to confirm the size of train/validation/test\n",
    "print(f\"Train: {df_train}\")\n",
    "print(f\"Validation: {df_val}\")\n",
    "print(f\"Test: {df_test}\")"
   ]
  },
  {
   "cell_type": "code",
   "execution_count": 24,
   "id": "ca37ecca-722c-428e-9035-897e67412d68",
   "metadata": {},
   "outputs": [],
   "source": [
    "# Output all datasets to csv\n",
    "df_train.to_csv(\"df_train.csv\", encoding='utf-8')\n",
    "df_val.to_csv(\"df_val.csv\", encoding='utf-8')\n",
    "df_test.to_csv(\"df_test.csv\", encoding='utf-8')"
   ]
  }
 ],
 "metadata": {
  "kernelspec": {
   "display_name": "MLLearningPython",
   "language": "python",
   "name": "python3"
  },
  "language_info": {
   "codemirror_mode": {
    "name": "ipython",
    "version": 3
   },
   "file_extension": ".py",
   "mimetype": "text/x-python",
   "name": "python",
   "nbconvert_exporter": "python",
   "pygments_lexer": "ipython3",
   "version": "3.9.15"
  },
  "vscode": {
   "interpreter": {
    "hash": "aed3bef70d80ff44432cad6b2c0e4fba119b67d0cad7bcab61226a67893a36d6"
   }
  }
 },
 "nbformat": 4,
 "nbformat_minor": 5
}
